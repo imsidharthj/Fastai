{
  "nbformat": 4,
  "nbformat_minor": 0,
  "metadata": {
    "colab": {
      "provenance": [],
      "gpuType": "T4",
      "authorship_tag": "ABX9TyNC1bdvMR06mtywDDBHuSBw",
      "include_colab_link": true
    },
    "kernelspec": {
      "name": "python3",
      "display_name": "Python 3"
    },
    "language_info": {
      "name": "python"
    },
    "accelerator": "GPU"
  },
  "cells": [
    {
      "cell_type": "markdown",
      "metadata": {
        "id": "view-in-github",
        "colab_type": "text"
      },
      "source": [
        "<a href=\"https://colab.research.google.com/github/imsidharthj/Fastai/blob/main/MNIST.ipynb\" target=\"_parent\"><img src=\"https://colab.research.google.com/assets/colab-badge.svg\" alt=\"Open In Colab\"/></a>"
      ]
    },
    {
      "cell_type": "code",
      "execution_count": null,
      "metadata": {
        "id": "6hfR-AbJgPw3"
      },
      "outputs": [],
      "source": [
        "import torch\n",
        "import torchvision ## Contains some utilities for working with the image data\n",
        "from torchvision.datasets import MNIST\n",
        "import matplotlib.pyplot as plt\n",
        "#%matplotlib inline\n",
        "import torchvision.transforms as transforms\n",
        "from torch.utils.data import random_split\n",
        "from torch.utils.data import DataLoader\n",
        "import torch.nn.functional as F\n",
        "import torchvision.datasets as datasets\n",
        "from torchvision.transforms import ToTensor"
      ]
    },
    {
      "cell_type": "code",
      "source": [
        "dataset = MNIST(root = 'data/', download = True)\n",
        "print(len(dataset))"
      ],
      "metadata": {
        "colab": {
          "base_uri": "https://localhost:8080/"
        },
        "id": "9gjhH2ioVFiv",
        "outputId": "5fd770e4-d22f-4fd8-821c-62728fcccf6d"
      },
      "execution_count": null,
      "outputs": [
        {
          "output_type": "stream",
          "name": "stdout",
          "text": [
            "Downloading http://yann.lecun.com/exdb/mnist/train-images-idx3-ubyte.gz\n",
            "Failed to download (trying next):\n",
            "HTTP Error 403: Forbidden\n",
            "\n",
            "Downloading https://ossci-datasets.s3.amazonaws.com/mnist/train-images-idx3-ubyte.gz\n",
            "Downloading https://ossci-datasets.s3.amazonaws.com/mnist/train-images-idx3-ubyte.gz to data/MNIST/raw/train-images-idx3-ubyte.gz\n"
          ]
        },
        {
          "output_type": "stream",
          "name": "stderr",
          "text": [
            "100%|██████████| 9912422/9912422 [00:00<00:00, 14821345.24it/s]\n"
          ]
        },
        {
          "output_type": "stream",
          "name": "stdout",
          "text": [
            "Extracting data/MNIST/raw/train-images-idx3-ubyte.gz to data/MNIST/raw\n",
            "\n",
            "Downloading http://yann.lecun.com/exdb/mnist/train-labels-idx1-ubyte.gz\n",
            "Failed to download (trying next):\n",
            "HTTP Error 403: Forbidden\n",
            "\n",
            "Downloading https://ossci-datasets.s3.amazonaws.com/mnist/train-labels-idx1-ubyte.gz\n",
            "Downloading https://ossci-datasets.s3.amazonaws.com/mnist/train-labels-idx1-ubyte.gz to data/MNIST/raw/train-labels-idx1-ubyte.gz\n"
          ]
        },
        {
          "output_type": "stream",
          "name": "stderr",
          "text": [
            "100%|██████████| 28881/28881 [00:00<00:00, 437163.04it/s]\n"
          ]
        },
        {
          "output_type": "stream",
          "name": "stdout",
          "text": [
            "Extracting data/MNIST/raw/train-labels-idx1-ubyte.gz to data/MNIST/raw\n",
            "\n",
            "Downloading http://yann.lecun.com/exdb/mnist/t10k-images-idx3-ubyte.gz\n",
            "Failed to download (trying next):\n",
            "HTTP Error 403: Forbidden\n",
            "\n",
            "Downloading https://ossci-datasets.s3.amazonaws.com/mnist/t10k-images-idx3-ubyte.gz\n",
            "Downloading https://ossci-datasets.s3.amazonaws.com/mnist/t10k-images-idx3-ubyte.gz to data/MNIST/raw/t10k-images-idx3-ubyte.gz\n"
          ]
        },
        {
          "output_type": "stream",
          "name": "stderr",
          "text": [
            "100%|██████████| 1648877/1648877 [00:00<00:00, 4138595.70it/s]\n"
          ]
        },
        {
          "output_type": "stream",
          "name": "stdout",
          "text": [
            "Extracting data/MNIST/raw/t10k-images-idx3-ubyte.gz to data/MNIST/raw\n",
            "\n",
            "Downloading http://yann.lecun.com/exdb/mnist/t10k-labels-idx1-ubyte.gz\n",
            "Failed to download (trying next):\n",
            "HTTP Error 403: Forbidden\n",
            "\n",
            "Downloading https://ossci-datasets.s3.amazonaws.com/mnist/t10k-labels-idx1-ubyte.gz\n",
            "Downloading https://ossci-datasets.s3.amazonaws.com/mnist/t10k-labels-idx1-ubyte.gz to data/MNIST/raw/t10k-labels-idx1-ubyte.gz\n"
          ]
        },
        {
          "output_type": "stream",
          "name": "stderr",
          "text": [
            "100%|██████████| 4542/4542 [00:00<00:00, 2704120.48it/s]"
          ]
        },
        {
          "output_type": "stream",
          "name": "stdout",
          "text": [
            "Extracting data/MNIST/raw/t10k-labels-idx1-ubyte.gz to data/MNIST/raw\n",
            "\n",
            "60000\n"
          ]
        },
        {
          "output_type": "stream",
          "name": "stderr",
          "text": [
            "\n"
          ]
        }
      ]
    },
    {
      "cell_type": "code",
      "source": [
        "image, label = dataset[10]\n",
        "plt.imshow(image, cmap = 'gray')\n",
        "print('Label:', label)"
      ],
      "metadata": {
        "colab": {
          "base_uri": "https://localhost:8080/",
          "height": 447
        },
        "id": "pk5nhlw8VUtp",
        "outputId": "d3803ffa-4328-4e85-a55e-ffc07b8a5abc"
      },
      "execution_count": null,
      "outputs": [
        {
          "output_type": "stream",
          "name": "stdout",
          "text": [
            "Label: 3\n"
          ]
        },
        {
          "output_type": "display_data",
          "data": {
            "text/plain": [
              "<Figure size 640x480 with 1 Axes>"
            ],
            "image/png": "[encoded data removed]"
          },
          "metadata": {}
        }
      ]
    },
    {
      "cell_type": "code",
      "source": [
        "mnist_dataset = MNIST(root = 'data/', train = True, transform = transforms.ToTensor())\n",
        "print(mnist_dataset)"
      ],
      "metadata": {
        "colab": {
          "base_uri": "https://localhost:8080/"
        },
        "id": "0FjRvuXyVZ7z",
        "outputId": "a3dd7282-f868-40be-a04b-a59dd51e396b"
      },
      "execution_count": null,
      "outputs": [
        {
          "output_type": "stream",
          "name": "stdout",
          "text": [
            "Dataset MNIST\n",
            "    Number of datapoints: 60000\n",
            "    Root location: data/\n",
            "    Split: Train\n",
            "    StandardTransform\n",
            "Transform: ToTensor()\n"
          ]
        }
      ]
    },
    {
      "cell_type": "code",
      "source": [
        "image_tensor, label = mnist_dataset[0]\n",
        "print(image_tensor.shape, label)"
      ],
      "metadata": {
        "colab": {
          "base_uri": "https://localhost:8080/"
        },
        "id": "8XfY0-NgVd_8",
        "outputId": "e27a63ad-1303-49b1-b8c1-ca398c225d69"
      },
      "execution_count": null,
      "outputs": [
        {
          "output_type": "stream",
          "name": "stdout",
          "text": [
            "torch.Size([1, 28, 28]) 5\n"
          ]
        }
      ]
    },
    {
      "cell_type": "code",
      "source": [
        "print(image_tensor[:,10:15,10:15])\n",
        "print(torch.max(image_tensor), torch.min(image_tensor))"
      ],
      "metadata": {
        "colab": {
          "base_uri": "https://localhost:8080/"
        },
        "id": "3zWPDr5VVf9d",
        "outputId": "59f93855-8d85-4485-e31a-4eb8b23a99ef"
      },
      "execution_count": null,
      "outputs": [
        {
          "output_type": "stream",
          "name": "stdout",
          "text": [
            "tensor([[[0.0039, 0.6039, 0.9922, 0.3529, 0.0000],\n",
            "         [0.0000, 0.5451, 0.9922, 0.7451, 0.0078],\n",
            "         [0.0000, 0.0431, 0.7451, 0.9922, 0.2745],\n",
            "         [0.0000, 0.0000, 0.1373, 0.9451, 0.8824],\n",
            "         [0.0000, 0.0000, 0.0000, 0.3176, 0.9412]]])\n",
            "tensor(1.) tensor(0.)\n"
          ]
        }
      ]
    },
    {
      "cell_type": "code",
      "source": [
        "plt.imshow(image_tensor[0,10:15,10:15],cmap = 'gray')"
      ],
      "metadata": {
        "colab": {
          "base_uri": "https://localhost:8080/",
          "height": 447
        },
        "id": "RElmBqP_VhqA",
        "outputId": "6eb5f385-daa0-41ff-dfa3-f1cf021e0a7e"
      },
      "execution_count": null,
      "outputs": [
        {
          "output_type": "execute_result",
          "data": {
            "text/plain": [
              "<matplotlib.image.AxesImage at 0x7cf928d86740>"
            ]
          },
          "metadata": {},
          "execution_count": 8
        },
        {
          "output_type": "display_data",
          "data": {
            "text/plain": [
              "<Figure size 640x480 with 1 Axes>"
            ],
            "image/png": "[encoded data removed]"
          },
          "metadata": {}
        }
      ]
    },
    {
      "cell_type": "code",
      "source": [
        "train_data, validation_data = random_split(mnist_dataset, [50000, 10000])\n",
        "## Print the length of train and validation datasets\n",
        "print(\"length of Train Datasets: \", len(train_data))\n",
        "print(\"length of Validation Datasets: \", len(validation_data))"
      ],
      "metadata": {
        "colab": {
          "base_uri": "https://localhost:8080/"
        },
        "id": "RoY-X8lQVjag",
        "outputId": "cb049801-f143-4ecd-889b-b45f2be5c43e"
      },
      "execution_count": null,
      "outputs": [
        {
          "output_type": "stream",
          "name": "stdout",
          "text": [
            "length of Train Datasets:  50000\n",
            "length of Validation Datasets:  10000\n"
          ]
        }
      ]
    },
    {
      "cell_type": "code",
      "source": [
        "batch_size = 128\n",
        "train_loader = DataLoader(train_data, batch_size, shuffle = True)\n",
        "val_loader = DataLoader(validation_data, batch_size, shuffle = False)"
      ],
      "metadata": {
        "id": "bZO5N_CHVlRA"
      },
      "execution_count": null,
      "outputs": []
    },
    {
      "cell_type": "code",
      "source": [
        "import torch.nn as nn\n",
        "\n",
        "input_size = 28 * 28\n",
        "num_classes = 10\n",
        "\n",
        "## Logistic regression model\n",
        "model = nn.Linear(input_size, num_classes)\n",
        "print(model.weight.shape)\n",
        "print(model.weight)\n",
        "print(model.bias.shape)\n",
        "print(model.bias)"
      ],
      "metadata": {
        "colab": {
          "base_uri": "https://localhost:8080/"
        },
        "id": "IEkUiPHVVoC5",
        "outputId": "5ad3897a-24c8-45c0-93f2-0433a0b98f84"
      },
      "execution_count": null,
      "outputs": [
        {
          "output_type": "stream",
          "name": "stdout",
          "text": [
            "torch.Size([10, 784])\n",
            "Parameter containing:\n",
            "tensor([[ 8.7972e-05, -9.8414e-03, -1.9800e-03,  ..., -1.9206e-02,\n",
            "          2.4256e-02, -2.6026e-02],\n",
            "        [-1.7734e-02, -2.2742e-02, -2.6799e-02,  ...,  3.6996e-03,\n",
            "         -1.2125e-02,  9.5440e-03],\n",
            "        [-2.7523e-02,  1.6802e-02, -3.0252e-02,  ...,  6.0552e-04,\n",
            "          1.4399e-02, -1.6096e-02],\n",
            "        ...,\n",
            "        [-1.0053e-02,  9.4503e-03,  2.1555e-02,  ...,  3.2909e-03,\n",
            "          1.8246e-02,  1.8160e-02],\n",
            "        [-2.9902e-02,  2.3286e-02,  2.9038e-02,  ..., -2.3926e-02,\n",
            "          1.3464e-02, -3.3502e-02],\n",
            "        [-8.8757e-03, -2.2815e-02, -2.9921e-02,  ..., -2.8111e-02,\n",
            "          2.4189e-02, -2.4266e-02]], requires_grad=True)\n",
            "torch.Size([10])\n",
            "Parameter containing:\n",
            "tensor([ 0.0221,  0.0232,  0.0087, -0.0088, -0.0253, -0.0029, -0.0256,  0.0213,\n",
            "         0.0093, -0.0298], requires_grad=True)\n"
          ]
        }
      ]
    },
    {
      "cell_type": "code",
      "source": [
        "for images, labels in train_loader:\n",
        "    print(labels)\n",
        "    print(images.shape)\n",
        "    images = images.reshape(images.shape[0], -1)\n",
        "    outputs = model(images)\n",
        "    break"
      ],
      "metadata": {
        "colab": {
          "base_uri": "https://localhost:8080/"
        },
        "id": "iFRAS7v9VqDn",
        "outputId": "5dae078c-9da4-4dd2-bf9c-7a7c4188bb7b"
      },
      "execution_count": null,
      "outputs": [
        {
          "output_type": "stream",
          "name": "stdout",
          "text": [
            "tensor([5, 9, 7, 0, 2, 3, 0, 8, 3, 1, 0, 3, 2, 1, 3, 4, 0, 0, 0, 0, 3, 4, 6, 6,\n",
            "        9, 6, 5, 6, 6, 9, 8, 0, 1, 3, 1, 9, 5, 8, 7, 5, 6, 4, 5, 4, 5, 4, 9, 9,\n",
            "        0, 2, 6, 7, 3, 3, 2, 1, 3, 6, 6, 9, 8, 7, 2, 2, 6, 6, 2, 3, 5, 6, 3, 4,\n",
            "        5, 9, 3, 2, 1, 1, 5, 0, 0, 9, 4, 3, 5, 3, 9, 3, 0, 4, 0, 3, 5, 6, 6, 7,\n",
            "        0, 4, 2, 7, 6, 2, 4, 3, 2, 1, 7, 2, 1, 8, 5, 7, 8, 4, 7, 4, 1, 6, 3, 3,\n",
            "        2, 6, 6, 1, 7, 6, 4, 0])\n",
            "torch.Size([128, 1, 28, 28])\n"
          ]
        }
      ]
    },
    {
      "cell_type": "code",
      "source": [
        "class MnistModel(nn.Module):\n",
        "    def __init__(self):\n",
        "        super().__init__()\n",
        "        self.linear = nn.Linear(input_size, num_classes)\n",
        "\n",
        "    def forward(self, xb):\n",
        "        xb = xb.reshape(-1, 784)\n",
        "        print(xb)\n",
        "        out = self.linear(xb)\n",
        "        print(out)\n",
        "        return(out)\n",
        "\n",
        "model = MnistModel()\n",
        "print(model.linear.weight.shape, model.linear.bias.shape)\n",
        "list(model.parameters())"
      ],
      "metadata": {
        "colab": {
          "base_uri": "https://localhost:8080/"
        },
        "id": "MCGGrkzRVsyH",
        "outputId": "c571037d-7b5d-4a31-d95c-40aa10b61c2c"
      },
      "execution_count": null,
      "outputs": [
        {
          "output_type": "stream",
          "name": "stdout",
          "text": [
            "torch.Size([10, 784]) torch.Size([10])\n"
          ]
        },
        {
          "output_type": "execute_result",
          "data": {
            "text/plain": [
              "[Parameter containing:\n",
              " tensor([[ 0.0064, -0.0034,  0.0113,  ...,  0.0332,  0.0233,  0.0019],\n",
              "         [-0.0357, -0.0084,  0.0102,  ...,  0.0074, -0.0211,  0.0270],\n",
              "         [-0.0108, -0.0254,  0.0096,  ..., -0.0275, -0.0137, -0.0146],\n",
              "         ...,\n",
              "         [ 0.0020,  0.0126,  0.0230,  ...,  0.0005,  0.0201, -0.0092],\n",
              "         [-0.0324, -0.0222,  0.0221,  ..., -0.0343,  0.0163, -0.0203],\n",
              "         [-0.0032, -0.0322,  0.0184,  ...,  0.0140, -0.0119,  0.0042]],\n",
              "        requires_grad=True),\n",
              " Parameter containing:\n",
              " tensor([-0.0291,  0.0193, -0.0249,  0.0235,  0.0158, -0.0054,  0.0046, -0.0201,\n",
              "          0.0211,  0.0170], requires_grad=True)]"
            ]
          },
          "metadata": {},
          "execution_count": 14
        }
      ]
    },
    {
      "cell_type": "code",
      "source": [
        "for images, labels in train_loader:\n",
        "    outputs = model(images)\n",
        "    break\n",
        "\n",
        "print('outputs shape: ', outputs.shape)\n",
        "print('Sample outputs: \\n', outputs[:2].data)"
      ],
      "metadata": {
        "colab": {
          "base_uri": "https://localhost:8080/"
        },
        "id": "ma5pchCXVuih",
        "outputId": "b7425f74-231a-4215-a350-ebf85a18f673"
      },
      "execution_count": null,
      "outputs": [
        {
          "output_type": "stream",
          "name": "stdout",
          "text": [
            "tensor([[0., 0., 0.,  ..., 0., 0., 0.],\n",
            "        [0., 0., 0.,  ..., 0., 0., 0.],\n",
            "        [0., 0., 0.,  ..., 0., 0., 0.],\n",
            "        ...,\n",
            "        [0., 0., 0.,  ..., 0., 0., 0.],\n",
            "        [0., 0., 0.,  ..., 0., 0., 0.],\n",
            "        [0., 0., 0.,  ..., 0., 0., 0.]])\n",
            "tensor([[-0.1540,  0.1152, -0.0266,  ..., -0.0565, -0.1319, -0.0955],\n",
            "        [ 0.0814, -0.0016, -0.1116,  ...,  0.0248, -0.0090, -0.0766],\n",
            "        [-0.1733, -0.0193,  0.0210,  ...,  0.0157, -0.0871,  0.1021],\n",
            "        ...,\n",
            "        [-0.2908,  0.1048,  0.1001,  ..., -0.2387, -0.0696,  0.1122],\n",
            "        [-0.2218, -0.1122, -0.0702,  ...,  0.1267, -0.0779, -0.2888],\n",
            "        [-0.2077, -0.1616, -0.0321,  ..., -0.0698,  0.1489, -0.0112]],\n",
            "       grad_fn=<AddmmBackward0>)\n",
            "outputs shape:  torch.Size([128, 10])\n",
            "Sample outputs: \n",
            " tensor([[-0.1540,  0.1152, -0.0266, -0.2300,  0.3050,  0.1172,  0.1653, -0.0565,\n",
            "         -0.1319, -0.0955],\n",
            "        [ 0.0814, -0.0016, -0.1116, -0.2520,  0.1876,  0.1549,  0.1307,  0.0248,\n",
            "         -0.0090, -0.0766]])\n"
          ]
        }
      ]
    },
    {
      "cell_type": "code",
      "source": [
        "probs = F.softmax(outputs, dim = 1)\n",
        "\n",
        "## chaecking at sample probabilities\n",
        "print(\"Sample probabilities:\\n\", probs[:2].data)\n",
        "\n",
        "print(\"\\n\")\n",
        "## Add up the probabilities of an output row\n",
        "print(\"Sum: \", torch.sum(probs[0]).item())\n",
        "max_probs, preds = torch.max(probs, dim = 1)\n",
        "print(\"\\n\")\n",
        "print(preds)\n",
        "print(\"\\n\")\n",
        "print(max_probs)"
      ],
      "metadata": {
        "colab": {
          "base_uri": "https://localhost:8080/"
        },
        "id": "KTG_RJXEVxrQ",
        "outputId": "5b7bb971-8a72-42b7-ba4c-a9aa322322d2"
      },
      "execution_count": null,
      "outputs": [
        {
          "output_type": "stream",
          "name": "stdout",
          "text": [
            "Sample probabilities:\n",
            " tensor([[0.0846, 0.1107, 0.0960, 0.0784, 0.1338, 0.1109, 0.1164, 0.0932, 0.0864,\n",
            "         0.0896],\n",
            "        [0.1062, 0.0978, 0.0876, 0.0761, 0.1182, 0.1143, 0.1116, 0.1004, 0.0971,\n",
            "         0.0907]])\n",
            "\n",
            "\n",
            "Sum:  0.9999998807907104\n",
            "\n",
            "\n",
            "tensor([4, 4, 5, 5, 6, 2, 3, 6, 6, 5, 6, 6, 1, 6, 4, 5, 6, 6, 6, 4, 6, 5, 2, 6,\n",
            "        8, 6, 6, 5, 6, 6, 5, 6, 5, 6, 3, 5, 6, 5, 4, 4, 5, 5, 5, 6, 1, 5, 5, 5,\n",
            "        6, 1, 9, 7, 5, 6, 4, 4, 4, 6, 6, 8, 5, 5, 5, 6, 5, 6, 2, 4, 4, 3, 5, 2,\n",
            "        3, 6, 1, 2, 6, 7, 6, 6, 6, 2, 1, 6, 5, 6, 6, 6, 5, 5, 8, 4, 2, 5, 4, 5,\n",
            "        6, 5, 5, 5, 5, 5, 5, 6, 6, 7, 5, 6, 6, 6, 1, 6, 5, 6, 5, 6, 6, 5, 6, 2,\n",
            "        5, 6, 2, 6, 6, 5, 5, 5])\n",
            "\n",
            "\n",
            "tensor([0.1338, 0.1182, 0.1271, 0.1192, 0.1439, 0.1214, 0.1439, 0.1620, 0.1313,\n",
            "        0.1180, 0.1509, 0.1345, 0.1352, 0.1407, 0.1292, 0.1323, 0.1278, 0.1275,\n",
            "        0.1377, 0.1201, 0.1491, 0.1369, 0.1224, 0.1387, 0.1383, 0.1244, 0.1470,\n",
            "        0.1290, 0.1321, 0.1265, 0.1385, 0.1285, 0.1293, 0.1506, 0.1302, 0.1300,\n",
            "        0.1288, 0.1397, 0.1264, 0.1288, 0.1239, 0.1596, 0.1477, 0.1240, 0.1344,\n",
            "        0.1326, 0.1619, 0.1448, 0.1499, 0.1153, 0.1173, 0.1116, 0.1263, 0.1274,\n",
            "        0.1431, 0.1163, 0.1211, 0.1387, 0.1237, 0.1374, 0.1495, 0.1487, 0.1421,\n",
            "        0.1649, 0.1258, 0.1203, 0.1208, 0.1247, 0.1169, 0.1188, 0.1301, 0.1144,\n",
            "        0.1412, 0.1324, 0.1177, 0.1197, 0.1326, 0.1198, 0.1178, 0.1367, 0.1370,\n",
            "        0.1116, 0.1447, 0.1251, 0.1295, 0.1410, 0.1216, 0.1358, 0.1382, 0.1435,\n",
            "        0.1377, 0.1289, 0.1217, 0.1398, 0.1421, 0.1377, 0.1278, 0.1325, 0.1246,\n",
            "        0.1355, 0.1309, 0.1388, 0.1521, 0.1519, 0.1211, 0.1171, 0.1150, 0.1396,\n",
            "        0.1356, 0.1292, 0.1301, 0.1381, 0.1269, 0.1098, 0.1413, 0.1286, 0.1354,\n",
            "        0.1566, 0.1482, 0.1157, 0.1233, 0.1293, 0.1167, 0.1354, 0.1647, 0.1382,\n",
            "        0.1312, 0.1550], grad_fn=<MaxBackward0>)\n"
          ]
        }
      ]
    },
    {
      "cell_type": "code",
      "source": [
        "def accuracy(outputs, labels):\n",
        "    _, preds = torch.max(outputs, dim = 1)\n",
        "    return(torch.tensor(torch.sum(preds == labels).item()/ len(preds)))\n",
        "\n",
        "print(\"Accuracy: \",accuracy(outputs, labels))\n",
        "print(\"\\n\")\n",
        "loss_fn = F.cross_entropy\n",
        "print(\"Loss Function: \",loss_fn)\n",
        "print(\"\\n\")\n",
        "## Loss for the current batch\n",
        "loss = loss_fn(outputs, labels)\n",
        "print(loss)"
      ],
      "metadata": {
        "colab": {
          "base_uri": "https://localhost:8080/"
        },
        "id": "JetCcqY9Vz8A",
        "outputId": "1599c15b-6248-4f0f-d874-862623bf0df1"
      },
      "execution_count": null,
      "outputs": [
        {
          "output_type": "stream",
          "name": "stdout",
          "text": [
            "Accuracy:  tensor(0.0781)\n",
            "\n",
            "\n",
            "Loss Function:  <function cross_entropy at 0x7cf9d4644160>\n",
            "\n",
            "\n",
            "tensor(2.3502, grad_fn=<NllLossBackward0>)\n"
          ]
        }
      ]
    },
    {
      "cell_type": "code",
      "source": [
        "class MnistModel(nn.Module):\n",
        "    def __init__(self):\n",
        "        super().__init__()\n",
        "        self.linear = nn.Linear(input_size, num_classes)\n",
        "\n",
        "    def forward(self, xb):\n",
        "        xb = xb.reshape(-1, 784)\n",
        "        out = self.linear(xb)\n",
        "        return(out)\n",
        "\n",
        "    def training_step(self, batch):\n",
        "        images, labels = batch\n",
        "        out = self(images) ## Generate predictions\n",
        "        loss = F.cross_entropy(out, labels) ## Calculate the loss\n",
        "        return(loss)\n",
        "\n",
        "    def validation_step(self, batch):\n",
        "        images, labels = batch\n",
        "        out = self(images)\n",
        "        loss = F.cross_entropy(out, labels)\n",
        "        acc = accuracy(out, labels)\n",
        "        return({'val_loss':loss, 'val_acc': acc})\n",
        "\n",
        "    def validation_epoch_end(self, outputs):\n",
        "        batch_losses = [x['val_loss'] for x in outputs]\n",
        "        epoch_loss = torch.stack(batch_losses).mean()\n",
        "        batch_accs = [x['val_acc'] for x in outputs]\n",
        "        epoch_acc = torch.stack(batch_accs).mean()\n",
        "        return({'val_loss': epoch_loss.item(), 'val_acc' : epoch_acc.item()})\n",
        "\n",
        "    def epoch_end(self, epoch,result):\n",
        "        print(\"Epoch [{}], val_loss: {:.4f}, val_acc: {:.4f}\".format(epoch, result['val_loss'], result['val_acc']))\n",
        "\n",
        "\n",
        "model = MnistModel()"
      ],
      "metadata": {
        "id": "ej4xtpTfV4Eo"
      },
      "execution_count": null,
      "outputs": []
    },
    {
      "cell_type": "code",
      "source": [
        "def evaluate(model, val_loader):\n",
        "    outputs = [model.validation_step(batch) for batch in val_loader]\n",
        "    return(model.validation_epoch_end(outputs))\n",
        "\n",
        "def fit(epochs, lr, model, train_loader, val_loader, opt_func = torch.optim.SGD):\n",
        "    history = []\n",
        "    optimizer = opt_func(model.parameters(), lr)\n",
        "    for epoch in range(epochs):\n",
        "\n",
        "        ## Training Phas\n",
        "        for batch in train_loader:\n",
        "            loss = model.training_step(batch)\n",
        "            loss.backward()\n",
        "            optimizer.step()\n",
        "            optimizer.zero_grad()\n",
        "\n",
        "        ## Validation phase\n",
        "        result = evaluate(model, val_loader)\n",
        "        model.epoch_end(epoch, result)\n",
        "        history.append(result)\n",
        "    return(history)"
      ],
      "metadata": {
        "id": "NjEPs2DlV4yS"
      },
      "execution_count": null,
      "outputs": []
    },
    {
      "cell_type": "code",
      "source": [
        "result0 = evaluate(model, val_loader)\n",
        "result0"
      ],
      "metadata": {
        "colab": {
          "base_uri": "https://localhost:8080/"
        },
        "id": "6biWs1d-V63E",
        "outputId": "7931bc57-66c3-4e48-b771-237007096f05"
      },
      "execution_count": null,
      "outputs": [
        {
          "output_type": "execute_result",
          "data": {
            "text/plain": [
              "{'val_loss': 2.3237810134887695, 'val_acc': 0.12490110844373703}"
            ]
          },
          "metadata": {},
          "execution_count": 20
        }
      ]
    },
    {
      "cell_type": "code",
      "source": [
        "history1 = fit(5, 0.001, model, train_loader, val_loader)"
      ],
      "metadata": {
        "colab": {
          "base_uri": "https://localhost:8080/"
        },
        "id": "e1QhOc1OV_EZ",
        "outputId": "f98f115b-b29a-4a82-b507-c59ce26f1e39"
      },
      "execution_count": null,
      "outputs": [
        {
          "output_type": "stream",
          "name": "stdout",
          "text": [
            "Epoch [0], val_loss: 1.9642, val_acc: 0.5801\n",
            "Epoch [1], val_loss: 1.6960, val_acc: 0.7151\n",
            "Epoch [2], val_loss: 1.4942, val_acc: 0.7511\n",
            "Epoch [3], val_loss: 1.3412, val_acc: 0.7724\n",
            "Epoch [4], val_loss: 1.2234, val_acc: 0.7857\n"
          ]
        }
      ]
    },
    {
      "cell_type": "code",
      "source": [
        "history2 = fit(5, 0.001, model, train_loader, val_loader)"
      ],
      "metadata": {
        "colab": {
          "base_uri": "https://localhost:8080/"
        },
        "id": "yjlLi-ouWAt7",
        "outputId": "b019f894-fbc5-4b22-849b-0698f1e35aa6"
      },
      "execution_count": null,
      "outputs": [
        {
          "output_type": "stream",
          "name": "stdout",
          "text": [
            "Epoch [0], val_loss: 1.1309, val_acc: 0.7951\n",
            "Epoch [1], val_loss: 1.0565, val_acc: 0.8024\n",
            "Epoch [2], val_loss: 0.9958, val_acc: 0.8091\n",
            "Epoch [3], val_loss: 0.9453, val_acc: 0.8153\n",
            "Epoch [4], val_loss: 0.9026, val_acc: 0.8206\n"
          ]
        }
      ]
    },
    {
      "cell_type": "code",
      "source": [
        "history3 = fit(5, 0.001, model, train_loader, val_loader)"
      ],
      "metadata": {
        "colab": {
          "base_uri": "https://localhost:8080/"
        },
        "id": "t1VGh0KOWBLv",
        "outputId": "0bc4374f-a289-43da-9bff-e80d806cf29e"
      },
      "execution_count": null,
      "outputs": [
        {
          "output_type": "stream",
          "name": "stdout",
          "text": [
            "Epoch [0], val_loss: 0.8660, val_acc: 0.8245\n",
            "Epoch [1], val_loss: 0.8344, val_acc: 0.8286\n",
            "Epoch [2], val_loss: 0.8067, val_acc: 0.8315\n",
            "Epoch [3], val_loss: 0.7823, val_acc: 0.8352\n",
            "Epoch [4], val_loss: 0.7605, val_acc: 0.8371\n"
          ]
        }
      ]
    },
    {
      "cell_type": "code",
      "source": [
        "history4 = fit(5, 0.001, model, train_loader, val_loader)"
      ],
      "metadata": {
        "colab": {
          "base_uri": "https://localhost:8080/"
        },
        "id": "kIlyOY1tWDHk",
        "outputId": "4475224c-9733-46e9-9fe8-6d4e87c921ef"
      },
      "execution_count": null,
      "outputs": [
        {
          "output_type": "stream",
          "name": "stdout",
          "text": [
            "Epoch [0], val_loss: 0.7410, val_acc: 0.8406\n",
            "Epoch [1], val_loss: 0.7234, val_acc: 0.8432\n",
            "Epoch [2], val_loss: 0.7075, val_acc: 0.8449\n",
            "Epoch [3], val_loss: 0.6929, val_acc: 0.8460\n",
            "Epoch [4], val_loss: 0.6796, val_acc: 0.8478\n"
          ]
        }
      ]
    },
    {
      "cell_type": "code",
      "source": [
        "history = [result0] + history1 + history2 + history3 + history4\n",
        "accuracies = [result['val_acc'] for result in history]\n",
        "plt.plot(accuracies, '-x')\n",
        "plt.xlabel('epoch')\n",
        "plt.ylabel('accuracy')\n",
        "plt.title('Accuracy Vs. No. of epochs')"
      ],
      "metadata": {
        "colab": {
          "base_uri": "https://localhost:8080/",
          "height": 489
        },
        "id": "BEd1vLYRWDKV",
        "outputId": "4213ce6f-c92c-44e7-ef84-cd8cca13241a"
      },
      "execution_count": null,
      "outputs": [
        {
          "output_type": "execute_result",
          "data": {
            "text/plain": [
              "Text(0.5, 1.0, 'Accuracy Vs. No. of epochs')"
            ]
          },
          "metadata": {},
          "execution_count": 25
        },
        {
          "output_type": "display_data",
          "data": {
            "text/plain": [
              "<Figure size 640x480 with 1 Axes>"
            ],
            "image/png": "[encoded data removed]"
          },
          "metadata": {}
        }
      ]
    },
    {
      "cell_type": "code",
      "source": [
        "test_dataset = MNIST(root = 'data/', train = False, transform = transforms.ToTensor())"
      ],
      "metadata": {
        "id": "FkgGnnWFWDM9"
      },
      "execution_count": null,
      "outputs": []
    },
    {
      "cell_type": "code",
      "source": [
        "img, label = test_dataset[0]\n",
        "plt.imshow(img[0], cmap = 'gray')\n",
        "print(\"shape: \", img.shape)\n",
        "print('Label: ', label)"
      ],
      "metadata": {
        "colab": {
          "base_uri": "https://localhost:8080/",
          "height": 465
        },
        "id": "NjlwGL8tWJUx",
        "outputId": "313e634b-b8c2-4c37-be33-19b58be528fb"
      },
      "execution_count": null,
      "outputs": [
        {
          "output_type": "stream",
          "name": "stdout",
          "text": [
            "shape:  torch.Size([1, 28, 28])\n",
            "Label:  7\n"
          ]
        },
        {
          "output_type": "display_data",
          "data": {
            "text/plain": [
              "<Figure size 640x480 with 1 Axes>"
            ],
            "image/png": "[encoded data removed]"
          },
          "metadata": {}
        }
      ]
    },
    {
      "cell_type": "code",
      "source": [
        "print(img.unsqueeze(0).shape)\n",
        "print(img.shape)"
      ],
      "metadata": {
        "colab": {
          "base_uri": "https://localhost:8080/"
        },
        "id": "w5xtnu8uWJXW",
        "outputId": "369c0ea7-8175-4430-f66a-0902f579005e"
      },
      "execution_count": null,
      "outputs": [
        {
          "output_type": "stream",
          "name": "stdout",
          "text": [
            "torch.Size([1, 1, 28, 28])\n",
            "torch.Size([1, 28, 28])\n"
          ]
        }
      ]
    },
    {
      "cell_type": "code",
      "source": [
        "def predict_image(img, model):\n",
        "    xb = img.unsqueeze(0)\n",
        "    yb = model(xb)\n",
        "    _, preds = torch.max(yb, dim = 1)\n",
        "    return(preds[0].item())"
      ],
      "metadata": {
        "id": "YYDxSFceWJaA"
      },
      "execution_count": null,
      "outputs": []
    },
    {
      "cell_type": "code",
      "source": [
        "img, label = test_dataset[0]\n",
        "plt.imshow(img[0], cmap = 'gray')\n",
        "print('Label:', label, ', Predicted :', predict_image(img, model))"
      ],
      "metadata": {
        "colab": {
          "base_uri": "https://localhost:8080/",
          "height": 447
        },
        "id": "7CBAXIyVWO3H",
        "outputId": "730861b0-0189-44c0-f5dd-2458b33421bb"
      },
      "execution_count": null,
      "outputs": [
        {
          "output_type": "stream",
          "name": "stdout",
          "text": [
            "Label: 7 , Predicted : 7\n"
          ]
        },
        {
          "output_type": "display_data",
          "data": {
            "text/plain": [
              "<Figure size 640x480 with 1 Axes>"
            ],
            "image/png": "[encoded data removed]"
          },
          "metadata": {}
        }
      ]
    },
    {
      "cell_type": "code",
      "source": [
        "img, label = test_dataset[9]\n",
        "plt.imshow(img[0], cmap = 'gray')\n",
        "print(\"Label:\", label, ',Predicted:', predict_image(img, model))"
      ],
      "metadata": {
        "colab": {
          "base_uri": "https://localhost:8080/",
          "height": 447
        },
        "id": "Rj7WMI74WO56",
        "outputId": "7bf8f8a3-155a-4d5c-c438-ecd685352887"
      },
      "execution_count": null,
      "outputs": [
        {
          "output_type": "stream",
          "name": "stdout",
          "text": [
            "Label: 9 ,Predicted: 9\n"
          ]
        },
        {
          "output_type": "display_data",
          "data": {
            "text/plain": [
              "<Figure size 640x480 with 1 Axes>"
            ],
            "image/png": "[encoded data removed]"
          },
          "metadata": {}
        }
      ]
    },
    {
      "cell_type": "code",
      "source": [
        "img, label = test_dataset[25]\n",
        "plt.imshow(img[0], cmap = 'gray')\n",
        "print(\"Label:\", label, ',Predicted:', predict_image(img, model))"
      ],
      "metadata": {
        "colab": {
          "base_uri": "https://localhost:8080/",
          "height": 447
        },
        "id": "eQ5YDRBIWO81",
        "outputId": "bf664aff-aafd-4377-c8e4-fce5d3f00473"
      },
      "execution_count": null,
      "outputs": [
        {
          "output_type": "stream",
          "name": "stdout",
          "text": [
            "Label: 0 ,Predicted: 0\n"
          ]
        },
        {
          "output_type": "display_data",
          "data": {
            "text/plain": [
              "<Figure size 640x480 with 1 Axes>"
            ],
            "image/png": "[encoded data removed]"
          },
          "metadata": {}
        }
      ]
    },
    {
      "cell_type": "code",
      "source": [
        "img, label = test_dataset[5000]\n",
        "plt.imshow(img[0], cmap = 'gray')\n",
        "print(\"Label:\", label, ',Predicted:', predict_image(img, model))"
      ],
      "metadata": {
        "colab": {
          "base_uri": "https://localhost:8080/",
          "height": 447
        },
        "id": "-89j2xXrWUyB",
        "outputId": "445665da-6100-4496-cfe1-a6719c62f761"
      },
      "execution_count": null,
      "outputs": [
        {
          "output_type": "stream",
          "name": "stdout",
          "text": [
            "Label: 3 ,Predicted: 3\n"
          ]
        },
        {
          "output_type": "display_data",
          "data": {
            "text/plain": [
              "<Figure size 640x480 with 1 Axes>"
            ],
            "image/png": "[encoded data removed]"
          },
          "metadata": {}
        }
      ]
    },
    {
      "cell_type": "code",
      "source": [
        "test_loader = DataLoader(test_dataset, batch_size = 256)\n",
        "result = evaluate(model, test_loader)\n",
        "result"
      ],
      "metadata": {
        "colab": {
          "base_uri": "https://localhost:8080/"
        },
        "id": "tEBWxKdbWXpQ",
        "outputId": "dc438226-278e-4149-e14d-9a5cfaca3cad"
      },
      "execution_count": null,
      "outputs": [
        {
          "output_type": "execute_result",
          "data": {
            "text/plain": [
              "{'val_loss': 0.6431329250335693, 'val_acc': 0.861621081829071}"
            ]
          },
          "metadata": {},
          "execution_count": 34
        }
      ]
    },
    {
      "cell_type": "code",
      "source": [
        "torch.save(model.state_dict(), 'mnist-logistic.pth')"
      ],
      "metadata": {
        "id": "190hBSqnWZ5w"
      },
      "execution_count": null,
      "outputs": []
    },
    {
      "cell_type": "code",
      "source": [
        "model.state_dict()"
      ],
      "metadata": {
        "colab": {
          "base_uri": "https://localhost:8080/"
        },
        "id": "mLr2Gdy3Wbsf",
        "outputId": "76ec1dbd-2a06-406f-bdbc-a4bcef8f5ad1"
      },
      "execution_count": null,
      "outputs": [
        {
          "output_type": "execute_result",
          "data": {
            "text/plain": [
              "OrderedDict([('linear.weight',\n",
              "              tensor([[-0.0032,  0.0132,  0.0269,  ..., -0.0096,  0.0222,  0.0209],\n",
              "                      [-0.0217,  0.0330, -0.0112,  ...,  0.0187, -0.0233,  0.0192],\n",
              "                      [ 0.0126, -0.0230,  0.0335,  ...,  0.0191, -0.0357, -0.0217],\n",
              "                      ...,\n",
              "                      [-0.0214,  0.0136,  0.0031,  ...,  0.0182,  0.0325, -0.0273],\n",
              "                      [ 0.0049,  0.0335, -0.0246,  ...,  0.0252, -0.0266, -0.0202],\n",
              "                      [ 0.0242, -0.0278,  0.0111,  ..., -0.0227, -0.0227, -0.0123]])),\n",
              "             ('linear.bias',\n",
              "              tensor([-0.0712,  0.0856,  0.0090, -0.0291,  0.0601,  0.0261,  0.0125,  0.0565,\n",
              "                      -0.0927, -0.0351]))])"
            ]
          },
          "metadata": {},
          "execution_count": 36
        }
      ]
    },
    {
      "cell_type": "code",
      "source": [
        "model2 = MnistModel()\n",
        "model2.load_state_dict(torch.load('mnist-logistic.pth'))\n",
        "model2.state_dict()"
      ],
      "metadata": {
        "colab": {
          "base_uri": "https://localhost:8080/"
        },
        "id": "G23MidjzWdN_",
        "outputId": "cc1d87e7-bd65-405a-d021-aee1f80c574e"
      },
      "execution_count": null,
      "outputs": [
        {
          "output_type": "stream",
          "name": "stderr",
          "text": [
            "<ipython-input-37-5b4a6824e55a>:2: FutureWarning: You are using `torch.load` with `weights_only=False` (the current default value), which uses the default pickle module implicitly. It is possible to construct malicious pickle data which will execute arbitrary code during unpickling (See https://github.com/pytorch/pytorch/blob/main/SECURITY.md#untrusted-models for more details). In a future release, the default value for `weights_only` will be flipped to `True`. This limits the functions that could be executed during unpickling. Arbitrary objects will no longer be allowed to be loaded via this mode unless they are explicitly allowlisted by the user via `torch.serialization.add_safe_globals`. We recommend you start setting `weights_only=True` for any use case where you don't have full control of the loaded file. Please open an issue on GitHub for any issues related to this experimental feature.\n",
            "  model2.load_state_dict(torch.load('mnist-logistic.pth'))\n"
          ]
        },
        {
          "output_type": "execute_result",
          "data": {
            "text/plain": [
              "OrderedDict([('linear.weight',\n",
              "              tensor([[-0.0032,  0.0132,  0.0269,  ..., -0.0096,  0.0222,  0.0209],\n",
              "                      [-0.0217,  0.0330, -0.0112,  ...,  0.0187, -0.0233,  0.0192],\n",
              "                      [ 0.0126, -0.0230,  0.0335,  ...,  0.0191, -0.0357, -0.0217],\n",
              "                      ...,\n",
              "                      [-0.0214,  0.0136,  0.0031,  ...,  0.0182,  0.0325, -0.0273],\n",
              "                      [ 0.0049,  0.0335, -0.0246,  ...,  0.0252, -0.0266, -0.0202],\n",
              "                      [ 0.0242, -0.0278,  0.0111,  ..., -0.0227, -0.0227, -0.0123]])),\n",
              "             ('linear.bias',\n",
              "              tensor([-0.0712,  0.0856,  0.0090, -0.0291,  0.0601,  0.0261,  0.0125,  0.0565,\n",
              "                      -0.0927, -0.0351]))])"
            ]
          },
          "metadata": {},
          "execution_count": 37
        }
      ]
    },
    {
      "cell_type": "code",
      "source": [
        "test_loader = DataLoader(test_dataset, batch_size = 256)\n",
        "result = evaluate(model2, test_loader)\n",
        "result"
      ],
      "metadata": {
        "colab": {
          "base_uri": "https://localhost:8080/"
        },
        "id": "4kRDdzVuWerb",
        "outputId": "7b84ba11-ee37-42db-e500-79273f60ac0a"
      },
      "execution_count": null,
      "outputs": [
        {
          "output_type": "execute_result",
          "data": {
            "text/plain": [
              "{'val_loss': 0.6431329250335693, 'val_acc': 0.861621081829071}"
            ]
          },
          "metadata": {},
          "execution_count": 38
        }
      ]
    }
  ]
}